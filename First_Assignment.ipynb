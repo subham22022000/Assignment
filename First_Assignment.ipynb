{
 "cells": [
  {
   "cell_type": "code",
   "execution_count": null,
   "metadata": {
    "id": "-hrMGjbO23jD"
   },
   "outputs": [],
   "source": [
    "1.  Explain the key features of Python that make it a popular choice for programming?"
   ]
  },
  {
   "cell_type": "markdown",
   "metadata": {
    "id": "vWOTpr_B25jf"
   },
   "source": [
    "Python is popular because it's easy to read and write, making it a great choice for both beginners and experienced programmers. Here’s why it stands out:\n",
    "\n",
    "Easy to Learn: Python's code looks like plain English, so it’s simple to pick up, even if you’re new to programming.\n",
    "\n",
    "No Need to Specify Data Types: You don’t need to tell Python whether a variable is a number, text, or something else—it figures it out for you.\n",
    "\n",
    "Quick Testing and Running: Python runs code line by line, so you can test and debug your code without waiting for it to compile.\n",
    "\n",
    "Flexible: You can use Python for different styles of programming, whether you want to structure it around objects, work with functions, or just write simple scripts.\n",
    "\n",
    "Ready-to-Use Tools: Python comes with lots of built-in tools and libraries, so you can handle a range of tasks (like working with files or data) without needing extra software.\n",
    "\n",
    "Many Libraries: Python has a massive collection of add-ons for specific tasks, from creating websites to working with data and AI. This saves you time and makes complex jobs easier."
   ]
  },
  {
   "cell_type": "code",
   "execution_count": null,
   "metadata": {
    "id": "YTUx6G513JOi"
   },
   "outputs": [],
   "source": [
    "2. Describe the role of predefined keywords in Python and provide examples of how they are used in a program ?"
   ]
  },
  {
   "cell_type": "markdown",
   "metadata": {
    "id": "V6xocMiZ3Vic"
   },
   "source": [
    "Predefined keywords in Python are reserved words that have special meanings and purposes. These keywords are part of the Python language itself, and they perform specific functions. Since they’re reserved, they cannot be used as variable names, function names, or any other identifiers in a program.\n",
    "\n",
    "Each keyword serves a distinct purpose, like controlling the flow of the program, handling errors, or defining functions and classes. Here are some commonly used keywords and examples of how they’re used in a program:\n",
    "\n",
    "Common Python Keywords and Their Uses\n",
    "if, else, elif - Used for conditional statements.\n",
    "for, while - Used for looping.\n",
    "break, continue - Used to control the flow within loops.\n",
    "def - Used to define functions.\n",
    "return - Used to return a value from a function.\n",
    "class - Used to define a class.\n",
    "try, except, finally - Used for error handling.\n",
    "import - Used to include external modules.\n",
    "in, is - Used for membership and identity testing.\n",
    "True, False, None - Represent boolean values and a null value."
   ]
  },
  {
   "cell_type": "code",
   "execution_count": 2,
   "metadata": {
    "colab": {
     "base_uri": "https://localhost:8080/"
    },
    "id": "1PznAfL53Wg5",
    "outputId": "cc5dbc4c-8357-4025-9183-a548c2c63545"
   },
   "outputs": [
    {
     "name": "stdout",
     "output_type": "stream",
     "text": [
      "Enter your nameSubham Kumar Sahoo\n",
      "Enter your age25\n",
      "Enter your emailSubhamsahoo251199@gmail.com\n",
      "Enter your locationBhubaneswar\n",
      "Registration Successful\n"
     ]
    }
   ],
   "source": [
    "#Example\n",
    "#Defining the values\n",
    "name = input(\"Enter your name\")\n",
    "age = int(input(\"Enter your age\"))\n",
    "email = input(\"Enter your email\")\n",
    "Location = input(\"Enter your location\")\n",
    "\n",
    "#applying the conditions\n",
    "if name == \"\":\n",
    "  print(\"Please enter a valid name\")\n",
    "elif age<20 or age>50:\n",
    "  print(\"Please enter age between 20 and 50\")\n",
    "elif '@' not in email:\n",
    "  print(\"Please enter valid email\")\n",
    "elif Location != \"Bhubaneswar\":\n",
    "  print(\"PLease enter valid Location\")\n",
    "else:\n",
    "  print(\"Registration Successful\")"
   ]
  },
  {
   "cell_type": "code",
   "execution_count": null,
   "metadata": {
    "id": "IxsnIzun3j6S"
   },
   "outputs": [],
   "source": [
    "3. Compare and contrast mutable and immutable objects in Python with examples."
   ]
  },
  {
   "cell_type": "markdown",
   "metadata": {
    "id": "-0Vp3ihM3u_t"
   },
   "source": [
    "In Python, mutable and immutable objects differ in whether their content can be modified after they are created.\n",
    "\n",
    "Mutable objects:\n",
    "Mutable objects are those whose content can be changed after creation. This means you can modify, add, or delete elements\n",
    "or attributes of these objects.\n",
    "\n",
    "Examples of mutable objects:\n",
    "Lists\n",
    "Dictionaries\n",
    "Sets\n",
    "\n",
    "Immutable Objects:\n",
    "Immutable objects are those whose content cannot be changed after creation. Once an immutable object is created, its state is fixed\n",
    "and cannot be modified.\n",
    "\n",
    "Examples of immutable objects:\n",
    "Strings\n",
    "Tuples\n",
    "Integers\n",
    "Floats\n",
    "Frozen sets"
   ]
  },
  {
   "cell_type": "code",
   "execution_count": null,
   "metadata": {
    "id": "JJc8-f1M4JZe"
   },
   "outputs": [],
   "source": [
    "4. Discuss the different types of operators in Python and provide examples of how they are used"
   ]
  },
  {
   "cell_type": "markdown",
   "metadata": {
    "id": "nt8vrcLb4Q6q"
   },
   "source": [
    "In Python, operators are symbols that perform operations on values or variables. They are essential in programming for tasks like arithmetic, comparisons, logical evaluations, and more. Here’s an overview of the main types of operators in Python, along with examples of how they work:\n",
    "\n",
    "1. Arithmetic Operators\n",
    "Arithmetic operators are used to perform mathematical calculations.\n",
    "\n",
    "+ (Addition): Adds two values.\n",
    "- (Subtraction): Subtracts one value from another.\n",
    "* (Multiplication): Multiplies two values.\n",
    "/ (Division): Divides one value by another.\n",
    "% (Modulus): Returns the remainder of division.\n",
    "** (Exponent): Raises a value to the power of another.\n",
    "// (Floor Division): Divides and returns the integer part of the quotient."
   ]
  },
  {
   "cell_type": "code",
   "execution_count": 4,
   "metadata": {
    "colab": {
     "base_uri": "https://localhost:8080/"
    },
    "id": "VxLWUEla4fBX",
    "outputId": "2519cf16-7df6-44d1-e12d-21b91179818d"
   },
   "outputs": [
    {
     "name": "stdout",
     "output_type": "stream",
     "text": [
      "8\n"
     ]
    }
   ],
   "source": [
    "#Arithmetic Operator s\n",
    "A = 5\n",
    "B = 3\n",
    "print(A+B)"
   ]
  },
  {
   "cell_type": "markdown",
   "metadata": {
    "id": "DEYFDNgV4ov2"
   },
   "source": [
    "2. Comparison Operators\n",
    "Comparison operators are used to compare two values and return True or False.\n",
    "\n",
    "== (Equal to): Checks if two values are equal.\n",
    "!= (Not equal to): Checks if two values are not equal.\n",
    "> (Greater than): Checks if one value is greater than another.\n",
    "< (Less than): Checks if one value is less than another.\n",
    ">= (Greater than or equal to): Checks if one value is greater than or equal to another.\n",
    "<= (Less than or equal to): Checks if one value is less than or equal to another.\n"
   ]
  },
  {
   "cell_type": "code",
   "execution_count": 3,
   "metadata": {
    "colab": {
     "base_uri": "https://localhost:8080/"
    },
    "id": "LiLSObhM4rh9",
    "outputId": "1dde71fa-3f59-4ab8-b96f-d6d6e0fe8fb8"
   },
   "outputs": [
    {
     "name": "stdout",
     "output_type": "stream",
     "text": [
      "False\n"
     ]
    }
   ],
   "source": [
    "#Comparison  Operators\n",
    "a = 55\n",
    "b = 25\n",
    "\n",
    "print(a == b)"
   ]
  },
  {
   "cell_type": "markdown",
   "metadata": {
    "id": "oawxxKjl44d5"
   },
   "source": [
    "3. Logical Operators\n",
    "Logical operators are used to combine conditional statements.\n",
    "\n",
    "and: Returns True if both statements are True.\n",
    "or: Returns True if at least one statement is True.\n",
    "not: Returns True if the statement is False."
   ]
  },
  {
   "cell_type": "code",
   "execution_count": 5,
   "metadata": {
    "colab": {
     "base_uri": "https://localhost:8080/"
    },
    "id": "a953lRII4wlf",
    "outputId": "c9d059ea-d0b2-4348-c050-295314f745c0"
   },
   "outputs": [
    {
     "name": "stdout",
     "output_type": "stream",
     "text": [
      "False\n"
     ]
    }
   ],
   "source": [
    "#Logical Operators\n",
    "a = True\n",
    "b = False\n",
    "\n",
    "print(a and b)"
   ]
  },
  {
   "cell_type": "code",
   "execution_count": null,
   "metadata": {
    "id": "hPsCy4i14_wd"
   },
   "outputs": [],
   "source": [
    "5.  Explain the concept of type casting in Python with examples\n",
    "\n"
   ]
  },
  {
   "cell_type": "markdown",
   "metadata": {
    "id": "DWP_ulIn5Opk"
   },
   "source": [
    "In simple terms, type casting in Python is the way to convert a value from one type to another, like turning a number into a string or a float into an integer. There are two ways to do it:\n",
    "\n",
    "1. Implicit Type Casting\n",
    "Python sometimes changes types automatically when it makes sense to do so. For example, if you add an integer and a float, Python will convert the integer to a float to avoid data loss."
   ]
  },
  {
   "cell_type": "code",
   "execution_count": 4,
   "metadata": {
    "colab": {
     "base_uri": "https://localhost:8080/"
    },
    "id": "N4qwcKgJ5Tw3",
    "outputId": "150a0e51-7bbd-4f0b-cc7a-733351a5aae9"
   },
   "outputs": [
    {
     "name": "stdout",
     "output_type": "stream",
     "text": [
      "15.2\n"
     ]
    }
   ],
   "source": [
    "a = 9\n",
    "b = 6.2\n",
    "result = a + b\n",
    "print(result)"
   ]
  },
  {
   "cell_type": "markdown",
   "metadata": {
    "id": "sFgWNevr5Z7t"
   },
   "source": [
    "2. Explicit Type Casting\n",
    "Sometimes, you need to manually change a value’s type to make your code work. You can do this using specific functions like:\n",
    "\n",
    "int() to make a value an integer.\n",
    "float() to make a value a floating-point number.\n",
    "str() to make a value a string."
   ]
  },
  {
   "cell_type": "code",
   "execution_count": 5,
   "metadata": {
    "colab": {
     "base_uri": "https://localhost:8080/"
    },
    "id": "DLkuvQ245cNO",
    "outputId": "9cef2618-32c9-4a2e-dcba-f88d3cec41e1"
   },
   "outputs": [
    {
     "name": "stdout",
     "output_type": "stream",
     "text": [
      "9\n"
     ]
    }
   ],
   "source": [
    "num = 9.5\n",
    "new_num = int(num)\n",
    "print(new_num)\n"
   ]
  },
  {
   "cell_type": "code",
   "execution_count": null,
   "metadata": {
    "id": "CChx0Sqp5ftQ"
   },
   "outputs": [],
   "source": [
    "6. How do conditional statements work in Python? Illustrate with examples"
   ]
  },
  {
   "cell_type": "markdown",
   "metadata": {
    "id": "0iRsimLj5noS"
   },
   "source": [
    "In Python, conditional statements are used to make decisions based on certain conditions. They check if a condition is True or False and execute code accordingly. The main conditional statements in Python are if, elif, and else."
   ]
  },
  {
   "cell_type": "markdown",
   "metadata": {
    "id": "UpmTKOev5tiv"
   },
   "source": [
    "1. if Statement\n",
    "The if statement checks if a condition is True. If it is, the code under it runs."
   ]
  },
  {
   "cell_type": "code",
   "execution_count": 8,
   "metadata": {
    "colab": {
     "base_uri": "https://localhost:8080/"
    },
    "id": "sWHuuvYT5yfp",
    "outputId": "bf26df03-81d6-48ba-94f6-0c195d38732e"
   },
   "outputs": [
    {
     "name": "stdout",
     "output_type": "stream",
     "text": [
      "You are eligible to vote.\n"
     ]
    }
   ],
   "source": [
    "age = 18\n",
    "if age >= 18:\n",
    "    print(\"You are eligible to vote.\")"
   ]
  },
  {
   "cell_type": "markdown",
   "metadata": {
    "id": "qS9tKBph539H"
   },
   "source": [
    "2. else Statement\n",
    "The else statement runs if the if condition is False. It acts as a fallback."
   ]
  },
  {
   "cell_type": "code",
   "execution_count": 6,
   "metadata": {
    "colab": {
     "base_uri": "https://localhost:8080/"
    },
    "id": "PxLJiWYO58sb",
    "outputId": "7b0c48ca-f804-40fb-fecb-bd554a72f5cf"
   },
   "outputs": [
    {
     "name": "stdout",
     "output_type": "stream",
     "text": [
      "You are not eligible to vote.\n"
     ]
    }
   ],
   "source": [
    "age = 14\n",
    "if age >= 18:\n",
    "    print(\"You are eligible to vote.\")\n",
    "else:\n",
    "    print(\"You are not eligible to vote.\")"
   ]
  },
  {
   "cell_type": "markdown",
   "metadata": {
    "id": "BpnjnLJy6D7t"
   },
   "source": [
    "3. elif Statement\n",
    "The elif (short for \"else if\") statement checks multiple conditions. If the first if condition is False, elif statements are checked in order."
   ]
  },
  {
   "cell_type": "code",
   "execution_count": 7,
   "metadata": {
    "colab": {
     "base_uri": "https://localhost:8080/"
    },
    "id": "aISnj2TD6I45",
    "outputId": "71726130-5690-41ea-ed2a-efa28c6110b3"
   },
   "outputs": [
    {
     "name": "stdout",
     "output_type": "stream",
     "text": [
      "Enter your nameSubham Kumar Sahoo\n",
      "Enter your age25\n",
      "Enter your emailSubhamsahoo251199@gmail.com\n",
      "Enter your locationBhubaneswar\n",
      "Registration Successful\n"
     ]
    }
   ],
   "source": [
    "#Defining the values\n",
    "name = input(\"Enter your name\")\n",
    "age = int(input(\"Enter your age\"))\n",
    "email = input(\"Enter your email\")\n",
    "Location = input(\"Enter your location\")\n",
    "\n",
    "#applying the conditions\n",
    "if name == \"\":\n",
    "  print(\"Please enter a valid name\")\n",
    "elif age<20 or age>50:\n",
    "  print(\"Please enter age between 20 and 50\")\n",
    "elif '@' not in email:\n",
    "  print(\"Please enter valid email\")\n",
    "elif Location != \"Bhubaneswar\":\n",
    "  print(\"PLease enter valid Location\")\n",
    "else:\n",
    "  print(\"Registration Successful\")\n"
   ]
  },
  {
   "cell_type": "code",
   "execution_count": null,
   "metadata": {
    "id": "0-BIdvpq6QWA"
   },
   "outputs": [],
   "source": [
    "7. Describe the different types of loops in Python and their use cases with examples"
   ]
  },
  {
   "cell_type": "markdown",
   "metadata": {
    "id": "qeLfUKAo6htu"
   },
   "source": [
    "In Python, loops are used to repeat a block of code multiple times. The two main types of loops in Python are the for loop and the while loop. Each type is useful for different situations."
   ]
  },
  {
   "cell_type": "markdown",
   "metadata": {
    "id": "gCtK068W6mA8"
   },
   "source": [
    "1. for Loop\n",
    "The for loop is used to iterate over a sequence (like a list, tuple, dictionary, set, or string). It goes through each item in the sequence, one at a time, until it reaches the end.\n",
    "\n",
    "Use Case: Use a for loop when you know the number of iterations in advance or when you're working with a sequence like a list or range."
   ]
  },
  {
   "cell_type": "code",
   "execution_count": 8,
   "metadata": {
    "colab": {
     "base_uri": "https://localhost:8080/"
    },
    "id": "uur6lo3x6qdq",
    "outputId": "79a2b9d0-7809-4ef9-e8d8-28e0adc86edb"
   },
   "outputs": [
    {
     "name": "stdout",
     "output_type": "stream",
     "text": [
      "Enter a number8\n",
      "8 * 1 = 8\n",
      "\n",
      "8 * 2 = 16\n",
      "\n",
      "8 * 3 = 24\n",
      "\n",
      "8 * 4 = 32\n",
      "\n",
      "8 * 5 = 40\n",
      "\n",
      "8 * 6 = 48\n",
      "\n",
      "8 * 7 = 56\n",
      "\n",
      "8 * 8 = 64\n",
      "\n",
      "8 * 9 = 72\n",
      "\n",
      "8 * 10 = 80\n",
      "\n"
     ]
    }
   ],
   "source": [
    "i = int(input(\"Enter a number\"))\n",
    "for j in range (1,11):\n",
    "   print(i,\"*\",j,\"=\",i*j)\n",
    "   print()"
   ]
  },
  {
   "cell_type": "markdown",
   "metadata": {
    "id": "wr3surYT6zQh"
   },
   "source": [
    "2. while Loop\n",
    "The while loop continues as long as a condition remains True. It’s useful when you don’t know the exact number of iterations in advance, as the loop continues until a condition is met.\n",
    "\n",
    "Use Case: Use a while loop when the number of repetitions depends on a condition rather than a sequence."
   ]
  },
  {
   "cell_type": "code",
   "execution_count": 10,
   "metadata": {
    "colab": {
     "base_uri": "https://localhost:8080/"
    },
    "id": "WKt_7DAF69Je",
    "outputId": "923f9851-9929-4a6e-cdd0-d89d1b089dbf"
   },
   "outputs": [
    {
     "name": "stdout",
     "output_type": "stream",
     "text": [
      "enter number of rows10\n",
      "1\n",
      "11\n",
      "111\n",
      "1111\n",
      "11111\n",
      "111111\n",
      "1111111\n",
      "11111111\n",
      "111111111\n",
      "1111111111\n"
     ]
    }
   ],
   "source": [
    "c = int(input(\"enter number of rows\"))\n",
    "row = 1\n",
    "while row <=c:\n",
    "  col = 1\n",
    "  while col <=row:\n",
    "    print(\"1\", end=\"\")\n",
    "    col=col+1\n",
    "  else:\n",
    "      print()\n",
    "      row=row+1\n",
    "\n"
   ]
  },
  {
   "cell_type": "code",
   "execution_count": null,
   "metadata": {
    "id": "Dt7tDTuK7AVG"
   },
   "outputs": [],
   "source": []
  }
 ],
 "metadata": {
  "colab": {
   "authorship_tag": "ABX9TyP3mTd2MeyY52qN8Y5xxinj",
   "include_colab_link": true,
   "provenance": []
  },
  "kernelspec": {
   "display_name": "Python 3",
   "language": "python",
   "name": "python3"
  },
  "language_info": {
   "codemirror_mode": {
    "name": "ipython",
    "version": 3
   },
   "file_extension": ".py",
   "mimetype": "text/x-python",
   "name": "python",
   "nbconvert_exporter": "python",
   "pygments_lexer": "ipython3",
   "version": "3.8.5"
  }
 },
 "nbformat": 4,
 "nbformat_minor": 1
}
